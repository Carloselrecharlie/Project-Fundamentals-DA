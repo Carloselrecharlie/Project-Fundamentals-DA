{
 "cells": [
  {
   "cell_type": "markdown",
   "metadata": {},
   "source": [
    "#### <div style=\"text-align: right\"> By Carlos Montes </div>\n",
    "<div style=\"text-align: right\"> December 2018 </div>\n",
    "\n",
    "## History\n",
    "Mathematician John Tukey first introduced these also known as “Box and Whisker Plot” in 1969 as a visual diagram of the “Five Number Summary” of any given data set. As Hadley Wickham describes, “Box plots use robust summary statistics that are always located at actual data points, are quickly computable (originally by hand), and have no tuning parameters. They are particularly useful for comparing distributions across groups.”\n",
    "\n",
    "Today, over 40 years later, the boxplot has become one of the most frequently used statistical graphics, and is one of the few plot types invented in the 20th century that has found widespread adoption. Due to their elegance and practicality, boxplots have spawned a wealth of variations and enhancement. They have been used steadily since their introduction in 1969 and are varied in both their potential visualizations as well as use cases across many disciplines in statistics and data analysis. \n",
    "\n",
    "\n",
    "## Explanation\n",
    "The Five Number Summary mentioned above includes:\n",
    "\n",
    "- Minimum\n",
    "- First Quartile\n",
    "- Median (Second Quartile)\n",
    "- Third Quartile\n",
    "- Maximum\n",
    "\n",
    "Quartiles are the three cut points that divide a dataset into four equal-sized groups. The median is the value which leaves the same number of samples on both sides of a given ordered dataset. (in the event of an even number of samples the median would be the mean of the two central value). By definition the median is the same as the second quartile since it leaves half of the values on every side and also one quartile on every side.\n",
    "\n",
    "The term \"box plot\" comes from the fact that the graph looks like a rectangle with lines extending from the top and bottom. \n",
    "![box plot image commented](http://www.physics.csbsju.edu/stats/simple.box.defs.gif)\n",
    "\n",
    "In a typical box plot, the top of the rectangle representes the third quartile, a horizontal line near the middle of the rectangle shows the median (which is the second quartile), and the bottom of the rectangle indicates the first quartile. A vertical line extends from the top of the rectangle to represent the maximum value, and another vertical line extends from the bottom of the rectangle to show the minimum value. \n",
    "\n",
    "A box plot can be placed on a coordinate plane resembling the Cartesian system, so that the five values, arranged vertically one above the other, run parallel to the dependent-variable or y axis. In some situations, two or more box plots can be placed side-by-side on a Cartesian coordinate plane to show how a phenomenon or scenario evolves with time, which is plotted along the independent-variable or x axis. Once in a while, a single box plot is tilted on its side, so the values run from left to right (minimum to maximum) instead of bottom-to-top.\n",
    "\n",
    "They can show the outliers, if the data is symmetrical, how tightly the set is grouped, and if and how the data is skewed. They are a good indication of how the values in the data are spread out. Although box plots may seem primitive in comparison to a histogram or density plot, they have the advantage of taking up less space, which is useful when comparing distributions between many groups or datasets.\n",
    "\n",
    "As an example I will show three different cases to output box plots using the popular Fisher's iris data set which is included in seaborn library:"
   ]
  },
  {
   "cell_type": "code",
   "execution_count": 1,
   "metadata": {
    "scrolled": true
   },
   "outputs": [
    {
     "data": {
      "text/html": [
       "<div>\n",
       "<style scoped>\n",
       "    .dataframe tbody tr th:only-of-type {\n",
       "        vertical-align: middle;\n",
       "    }\n",
       "\n",
       "    .dataframe tbody tr th {\n",
       "        vertical-align: top;\n",
       "    }\n",
       "\n",
       "    .dataframe thead th {\n",
       "        text-align: right;\n",
       "    }\n",
       "</style>\n",
       "<table border=\"1\" class=\"dataframe\">\n",
       "  <thead>\n",
       "    <tr style=\"text-align: right;\">\n",
       "      <th></th>\n",
       "      <th>sepal_length</th>\n",
       "      <th>sepal_width</th>\n",
       "      <th>petal_length</th>\n",
       "      <th>petal_width</th>\n",
       "      <th>species</th>\n",
       "    </tr>\n",
       "  </thead>\n",
       "  <tbody>\n",
       "    <tr>\n",
       "      <th>0</th>\n",
       "      <td>5.1</td>\n",
       "      <td>3.5</td>\n",
       "      <td>1.4</td>\n",
       "      <td>0.2</td>\n",
       "      <td>setosa</td>\n",
       "    </tr>\n",
       "    <tr>\n",
       "      <th>1</th>\n",
       "      <td>4.9</td>\n",
       "      <td>3.0</td>\n",
       "      <td>1.4</td>\n",
       "      <td>0.2</td>\n",
       "      <td>setosa</td>\n",
       "    </tr>\n",
       "    <tr>\n",
       "      <th>2</th>\n",
       "      <td>4.7</td>\n",
       "      <td>3.2</td>\n",
       "      <td>1.3</td>\n",
       "      <td>0.2</td>\n",
       "      <td>setosa</td>\n",
       "    </tr>\n",
       "    <tr>\n",
       "      <th>3</th>\n",
       "      <td>4.6</td>\n",
       "      <td>3.1</td>\n",
       "      <td>1.5</td>\n",
       "      <td>0.2</td>\n",
       "      <td>setosa</td>\n",
       "    </tr>\n",
       "    <tr>\n",
       "      <th>4</th>\n",
       "      <td>5.0</td>\n",
       "      <td>3.6</td>\n",
       "      <td>1.4</td>\n",
       "      <td>0.2</td>\n",
       "      <td>setosa</td>\n",
       "    </tr>\n",
       "  </tbody>\n",
       "</table>\n",
       "</div>"
      ],
      "text/plain": [
       "   sepal_length  sepal_width  petal_length  petal_width species\n",
       "0           5.1          3.5           1.4          0.2  setosa\n",
       "1           4.9          3.0           1.4          0.2  setosa\n",
       "2           4.7          3.2           1.3          0.2  setosa\n",
       "3           4.6          3.1           1.5          0.2  setosa\n",
       "4           5.0          3.6           1.4          0.2  setosa"
      ]
     },
     "execution_count": 1,
     "metadata": {},
     "output_type": "execute_result"
    }
   ],
   "source": [
    "# we import library and then the data set\n",
    "import seaborn as sns\n",
    "import matplotlib.pyplot as plt\n",
    "# python magic command to make sure all the plots are displayed properly:\n",
    "%matplotlib inline\n",
    "df = sns.load_dataset('iris')\n",
    "\n",
    "# show the first 5 lines of the data set itself:\n",
    "df.head()"
   ]
  },
  {
   "cell_type": "markdown",
   "metadata": {},
   "source": [
    "1) Taking one single numerical variable, all the 150 samples of the sepal length which belong to 3 different species of the setosa flower:"
   ]
  },
  {
   "cell_type": "code",
   "execution_count": 2,
   "metadata": {
    "scrolled": false
   },
   "outputs": [
    {
     "data": {
      "image/png": "[encoded data removed]",
      "text/plain": [
       "<Figure size 432x288 with 1 Axes>"
      ]
     },
     "metadata": {
      "needs_background": "light"
     },
     "output_type": "display_data"
    }
   ],
   "source": [
    "sns.boxplot(y=df[\"sepal_length\"])\n",
    "plt.show()"
   ]
  },
  {
   "cell_type": "markdown",
   "metadata": {},
   "source": [
    "We can see that the minimum value is nearly 4.5 mm and the maximum roughly 8, being the median close to 6. Then the first quartile around 5.2 and the third 6.5. Now I'll calculate the exact values of these parameters through python:"
   ]
  },
  {
   "cell_type": "code",
   "execution_count": 3,
   "metadata": {},
   "outputs": [
    {
     "data": {
      "text/plain": [
       "5.8"
      ]
     },
     "execution_count": 3,
     "metadata": {},
     "output_type": "execute_result"
    }
   ],
   "source": [
    "# how to get the median with pandas\n",
    "df[\"sepal_length\"].median()"
   ]
  },
  {
   "cell_type": "code",
   "execution_count": 4,
   "metadata": {
    "scrolled": true
   },
   "outputs": [
    {
     "data": {
      "text/plain": [
       "0.25    5.1\n",
       "0.75    6.4\n",
       "Name: sepal_length, dtype: float64"
      ]
     },
     "execution_count": 4,
     "metadata": {},
     "output_type": "execute_result"
    }
   ],
   "source": [
    "# how to get the first quartile -0.25- and the third quartile -0.75-\n",
    "df.sepal_length.quantile([0.25, 0.75])"
   ]
  },
  {
   "cell_type": "markdown",
   "metadata": {},
   "source": [
    "* Note that we could also get the median by including 0.5 within the above pair of square braces since the median is the second quartile by definition. The code would then be:\n",
    "\n",
    "`df.sepal_length.quantile([0.25, 0.5, 0.75])`\n",
    "\n",
    "On the other hand this plot doesn't show any outliers, reason why we'll look at the same parameter but focusing on just one of the species: virginica. We select the rows 100 to 149 where virginica is, and only take its values from the *sepal_length* column. With loc we can select cells by their index"
   ]
  },
  {
   "cell_type": "code",
   "execution_count": 5,
   "metadata": {
    "scrolled": true
   },
   "outputs": [
    {
     "data": {
      "image/png": "[encoded data removed]",
      "text/plain": [
       "<Figure size 432x288 with 1 Axes>"
      ]
     },
     "metadata": {
      "needs_background": "light"
     },
     "output_type": "display_data"
    }
   ],
   "source": [
    "sns.boxplot( x=df.loc[100:149, \"species\"], y=df[\"sepal_length\"] )\n",
    "plt.show()"
   ]
  },
  {
   "cell_type": "code",
   "execution_count": 13,
   "metadata": {},
   "outputs": [
    {
     "data": {
      "text/plain": [
       "4.9"
      ]
     },
     "execution_count": 13,
     "metadata": {},
     "output_type": "execute_result"
    }
   ],
   "source": [
    "# And we find one outlier right above the x axis, whose value is 4.9:\n",
    "min(df.loc[100:149, \"sepal_length\"])"
   ]
  },
  {
   "cell_type": "markdown",
   "metadata": {},
   "source": [
    "Although, we might prefer to hide the outliers at times and we can do so by just adding `showfliers=False`"
   ]
  },
  {
   "cell_type": "code",
   "execution_count": 20,
   "metadata": {},
   "outputs": [
    {
     "data": {
      "image/png": "[encoded data removed]",
      "text/plain": [
       "<Figure size 432x288 with 1 Axes>"
      ]
     },
     "metadata": {
      "needs_background": "light"
     },
     "output_type": "display_data"
    }
   ],
   "source": [
    "sns.boxplot( x=df.loc[100:149, \"species\"], y=df[\"sepal_length\"], showfliers=False )\n",
    "plt.show()"
   ]
  },
  {
   "cell_type": "markdown",
   "metadata": {},
   "source": [
    "Also there is a possibility to make them bigger or smaller, with `markersize` being the default value 5, the smallest 0 and nearly not limited on the top size. Also `markerfacecolor` enables transparency, the value 0 is totally black (default) and 1 totally transparent being only visible its borders."
   ]
  },
  {
   "cell_type": "code",
   "execution_count": 56,
   "metadata": {
    "scrolled": true
   },
   "outputs": [
    {
     "data": {
      "image/png": "[encoded data removed]",
      "text/plain": [
       "<Figure size 432x288 with 1 Axes>"
      ]
     },
     "metadata": {
      "needs_background": "light"
     },
     "output_type": "display_data"
    }
   ],
   "source": [
    "fliertweak = dict(markerfacecolor='', markersize=10)\n",
    "sns.boxplot( x=df.loc[100:149, \"species\"], y=df[\"sepal_length\"], flierprops=fliertweak )\n",
    "plt.show()"
   ]
  },
  {
   "cell_type": "markdown",
   "metadata": {},
   "source": [
    "But there are other features we can add to box plots like a confidence interval which is a type of interval estimate that might contain the true value of an unknown population parameter.\n",
    " \n",
    " In order to get this we need to add `notch=True` and two notches turn up on the sides of the box.\n",
    " \n",
    " The interval has an associated confidence level that quantifies the level of confidence that the parameter lies in the interval. Confidence intervals consist of a range of potential values of the unknown population parameter. The confidence level is designated prior to examining the data. Most commonly the 95% confidence level is used, and here it's the default one, but others can also be used like 90% and 99%.\n",
    " \n",
    " On the other hand we can also add the representation of every value to overlap a swarm plot. This is in the second line of the following script represented as *ax*:"
   ]
  },
  {
   "cell_type": "code",
   "execution_count": 7,
   "metadata": {},
   "outputs": [
    {
     "data": {
      "image/png": "[encoded data removed]",
      "text/plain": [
       "<Figure size 432x288 with 1 Axes>"
      ]
     },
     "metadata": {
      "needs_background": "light"
     },
     "output_type": "display_data"
    }
   ],
   "source": [
    "sns.boxplot( y=df[\"sepal_length\"], notch=True )\n",
    "ax = sns.swarmplot(y=\"sepal_length\", data=df, color=\".25\")\n",
    "plt.show()"
   ]
  },
  {
   "cell_type": "markdown",
   "metadata": {},
   "source": [
    "2) Taking one numerical variable and several groups:"
   ]
  },
  {
   "cell_type": "code",
   "execution_count": 8,
   "metadata": {},
   "outputs": [
    {
     "data": {
      "image/png": "[encoded data removed]",
      "text/plain": [
       "<Figure size 432x288 with 1 Axes>"
      ]
     },
     "metadata": {
      "needs_background": "light"
     },
     "output_type": "display_data"
    }
   ],
   "source": [
    "# we look at the same variable as before but in relation to every of the three species of flower\n",
    "sns.boxplot( x=df[\"species\"], y=df[\"sepal_length\"] )\n",
    "plt.show()"
   ]
  },
  {
   "cell_type": "markdown",
   "metadata": {},
   "source": [
    "3) Taking several numerical variables:"
   ]
  },
  {
   "cell_type": "code",
   "execution_count": 9,
   "metadata": {},
   "outputs": [
    {
     "data": {
      "image/png": "[encoded data removed]",
      "text/plain": [
       "<Figure size 432x288 with 1 Axes>"
      ]
     },
     "metadata": {
      "needs_background": "light"
     },
     "output_type": "display_data"
    }
   ],
   "source": [
    "# we can visualize the values of two variables (columns in this case) one next to another (sepal lenght and sepal width)\n",
    "sns.boxplot(data=df.iloc[:,0:2])\n",
    "plt.show()"
   ]
  },
  {
   "cell_type": "markdown",
   "metadata": {},
   "source": [
    "## References\n",
    "- [www.chartio.com](https://chartio.com/resources/tutorials/what-is-a-box-plot/)\n",
    "- [www.techtarget.com](https://whatis.techtarget.com/definition/box-plot)\n",
    "- [www.towardsdatascience.com](https://towardsdatascience.com/understanding-boxplots-5e2df7bcbd51)\n",
    "- [www.python-graph-gallery.com](https://python-graph-gallery.com/30-basic-boxplot-with-seaborn/)"
   ]
  },
  {
   "cell_type": "code",
   "execution_count": null,
   "metadata": {},
   "outputs": [],
   "source": []
  },
  {
   "cell_type": "markdown",
   "metadata": {},
   "source": [
    "First look at the manual [demo](https://matplotlib.org/gallery/statistics/boxplot_demo.html)"
   ]
  }
 ],
 "metadata": {
  "kernelspec": {
   "display_name": "Python 3",
   "language": "python",
   "name": "python3"
  },
  "language_info": {
   "codemirror_mode": {
    "name": "ipython",
    "version": 3
   },
   "file_extension": ".py",
   "mimetype": "text/x-python",
   "name": "python",
   "nbconvert_exporter": "python",
   "pygments_lexer": "ipython3",
   "version": "3.6.5"
  }
 },
 "nbformat": 4,
 "nbformat_minor": 2
}
