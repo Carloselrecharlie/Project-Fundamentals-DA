{
 "cells": [
  {
   "cell_type": "markdown",
   "metadata": {},
   "source": [
    "First look at the manual [demo](https://matplotlib.org/gallery/statistics/boxplot_demo.html)"
   ]
  },
  {
   "cell_type": "code",
   "execution_count": 11,
   "metadata": {},
   "outputs": [
    {
     "name": "stdout",
     "output_type": "stream",
     "text": [
      "SPREAD\n",
      "[ 4.79415097 11.09436116 13.43253868 15.78833509 16.09458806 16.10182093\n",
      " 20.61255148 23.72264387 24.79157587 25.77444303 29.53639811 32.41800177\n",
      " 33.64211054 34.15467831 34.25218134 36.29692901 38.82640891 38.8937029\n",
      " 39.68076115 46.63832593 48.06050174 48.32096053 51.1785874  54.32393949\n",
      " 56.67455225 56.74190362 62.24390337 63.29741618 65.15454689 69.45070978\n",
      " 69.76985214 70.03673039 70.28126954 70.6334846  70.92800107 71.99566667\n",
      " 72.15447266 73.97692989 74.27508094 74.36211347 78.30658753 79.98995282\n",
      " 82.39455709 90.63036451 92.23765324 92.874137   96.87611677 97.28972601\n",
      " 97.29176387 97.77853328]\n",
      "\n",
      "CENTER\n",
      "[50. 50. 50. 50. 50. 50. 50. 50. 50. 50. 50. 50. 50. 50. 50. 50. 50. 50.\n",
      " 50. 50. 50. 50. 50. 50. 50.]\n",
      "\n",
      "FLIER HIGH\n",
      "[175.06071403 111.37844527 184.53612452 192.3932129  122.08367918\n",
      " 193.3053876  148.89987436 147.47186402 108.91674722 122.9948178 ]\n",
      "\n",
      "FLIER LOW\n",
      "[-71.59374101 -49.6126162  -76.64893785 -89.67973224 -77.22230183\n",
      " -92.71742883 -61.46520272 -60.90637692 -68.46848657 -25.10129674]\n",
      "\n",
      "DATA\n",
      "[-92.71742883 -89.67973224 -77.22230183 -76.64893785 -71.59374101\n",
      " -68.46848657 -61.46520272 -60.90637692 -49.6126162  -25.10129674\n",
      "   4.79415097  11.09436116  13.43253868  15.78833509  16.09458806\n",
      "  16.10182093  20.61255148  23.72264387  24.79157587  25.77444303\n",
      "  29.53639811  32.41800177  33.64211054  34.15467831  34.25218134\n",
      "  36.29692901  38.82640891  38.8937029   39.68076115  46.63832593\n",
      "  48.06050174  48.32096053  50.          50.          50.\n",
      "  50.          50.          50.          50.          50.\n",
      "  50.          50.          50.          50.          50.\n",
      "  50.          50.          50.          50.          50.\n",
      "  50.          50.          50.          50.          50.\n",
      "  50.          50.          51.1785874   54.32393949  56.67455225\n",
      "  56.74190362  62.24390337  63.29741618  65.15454689  69.45070978\n",
      "  69.76985214  70.03673039  70.28126954  70.6334846   70.92800107\n",
      "  71.99566667  72.15447266  73.97692989  74.27508094  74.36211347\n",
      "  78.30658753  79.98995282  82.39455709  90.63036451  92.23765324\n",
      "  92.874137    96.87611677  97.28972601  97.29176387  97.77853328\n",
      " 108.91674722 111.37844527 122.08367918 122.9948178  147.47186402\n",
      " 148.89987436 175.06071403 184.53612452 192.3932129  193.3053876 ]\n"
     ]
    },
    {
     "data": {
      "image/png": "[encoded data removed]",
      "text/plain": [
       "<Figure size 432x288 with 6 Axes>"
      ]
     },
     "metadata": {
      "needs_background": "light"
     },
     "output_type": "display_data"
    },
    {
     "data": {
      "image/png": "[encoded data removed]",
      "text/plain": [
       "<Figure size 432x288 with 1 Axes>"
      ]
     },
     "metadata": {
      "needs_background": "light"
     },
     "output_type": "display_data"
    }
   ],
   "source": [
    "import matplotlib.pyplot as plt\n",
    "import numpy as np\n",
    "from matplotlib.patches import Polygon\n",
    "\n",
    "\n",
    "# Fixing random state for reproducibility\n",
    "np.random.seed(19680801)\n",
    "\n",
    "# fake up some data\n",
    "spread = np.random.rand(50) * 100\n",
    "center = np.ones(25) * 50\n",
    "flier_high = np.random.rand(10) * 100 + 100\n",
    "flier_low = np.random.rand(10) * -100\n",
    "data = np.concatenate((spread, center, flier_high, flier_low))\n",
    "\n",
    "print('SPREAD')\n",
    "spread.sort()\n",
    "print(spread)\n",
    "print()\n",
    "print('CENTER')\n",
    "print(center)\n",
    "print()\n",
    "print('FLIER HIGH')\n",
    "print(flier_high)\n",
    "print()\n",
    "print('FLIER LOW')\n",
    "print(flier_low)\n",
    "print()\n",
    "print('DATA')\n",
    "data.sort()\n",
    "print(data)\n",
    "\n",
    "fig, axs = plt.subplots(2, 3)\n",
    "\n",
    "# basic plot\n",
    "axs[0, 0].boxplot(data)\n",
    "axs[0, 0].set_title('basic plot')\n",
    "\n",
    "# notched plot\n",
    "axs[0, 1].boxplot(data, 1)\n",
    "axs[0, 1].set_title('notched plot')\n",
    "\n",
    "# change outlier point symbols\n",
    "axs[0, 2].boxplot(data, 0, 'gD')\n",
    "axs[0, 2].set_title('change outlier\\npoint symbols')\n",
    "\n",
    "# don't show outlier points\n",
    "axs[1, 0].boxplot(data, 0, '')\n",
    "axs[1, 0].set_title(\"don't show\\noutlier points\")\n",
    "\n",
    "# horizontal boxes\n",
    "axs[1, 1].boxplot(data, 0, 'rs', 0)\n",
    "axs[1, 1].set_title('horizontal boxes')\n",
    "\n",
    "# change whisker length\n",
    "axs[1, 2].boxplot(data, 0, 'rs', 0, 0.75)\n",
    "axs[1, 2].set_title('change whisker length')\n",
    "\n",
    "fig.subplots_adjust(left=0.08, right=0.98, bottom=0.05, top=0.9,\n",
    "                    hspace=0.4, wspace=0.3)\n",
    "\n",
    "# fake up some more data\n",
    "spread = np.random.rand(50) * 100\n",
    "center = np.ones(25) * 40\n",
    "flier_high = np.random.rand(10) * 100 + 100\n",
    "flier_low = np.random.rand(10) * -100\n",
    "d2 = np.concatenate((spread, center, flier_high, flier_low))\n",
    "data.shape = (-1, 1)\n",
    "d2.shape = (-1, 1)\n",
    "# Making a 2-D array only works if all the columns are the\n",
    "# same length.  If they are not, then use a list instead.\n",
    "# This is actually more efficient because boxplot converts\n",
    "# a 2-D array into a list of vectors internally anyway.\n",
    "data = [data, d2, d2[::2, 0]]\n",
    "\n",
    "# Multiple box plots on one Axes\n",
    "fig, ax = plt.subplots()\n",
    "ax.boxplot(data)\n",
    "\n",
    "plt.show()"
   ]
  },
  {
   "cell_type": "markdown",
   "metadata": {},
   "source": [
    "## History\n",
    "Mathematician John Tukey first introduced thesealso known as “Box and Whisker Plot” in 1969 as a visual diagram of the “Five Number Summary” of any given data set. As Hadley Wickham describes, “Box plots use robust summary statistics that are always located at actual data points, are quickly computable (originally by hand), and have no tuning parameters. They are particularly useful for comparing distributions across groups.”\n",
    "\n",
    "Box plots have been used steadily since their introduction in 1969 and are varied in both their potential visualizations as well as use cases across many disciplines in statistics and data analysis.\n",
    "\n",
    "\n",
    "## Explanation\n",
    "The Five Number Summary mentioned above includes:\n",
    "\n",
    "- Minimum\n",
    "- First Quartile\n",
    "- Median (Second Quartile)\n",
    "- Third Quartile\n",
    "- Maximum\n",
    "\n",
    "Quartiles are the three cut points that divide a dataset into four equal-sized groups. The median is the value which leaves the same number of samples on both sides of a given ordered dataset. (in the event of an even number of samples the median would be the mean of the two central value). By definition the median is the same as the second quartile since it leaves half of the values on every side and also one quartile on every side.\n",
    "\n",
    "The term \"box plot\" comes from the fact that the graph looks like a rectangle with lines extending from the top and bottom. \n",
    "![box plot image commented](http://www.physics.csbsju.edu/stats/simple.box.defs.gif)\n",
    "\n",
    "In a typical box plot, the top of the rectangle indicates the third quartile, a horizontal line near the middle of the rectangle indicates the median (which is the second quartile), and the bottom of the rectangle indicates the first quartile. A vertical line extends from the top of the rectangle to indicate the maximum value, and another vertical line extends from the bottom of the rectangle to indicate the minimum value. \n",
    "\n",
    "A box plot can be placed on a coordinate plane resembling the Cartesian system, so that the five values, arranged vertically one above the other, run parallel to the dependent-variable or y axis. In some situations, two or more box plots can be placed side-by-side on a Cartesian coordinate plane to show how a phenomenon or scenario evolves with time, which is plotted along the independent-variable or x axis. Once in a while, a single box plot is tilted on its side, so the values run from left-to-right (minimum to maximum) instead of bottom-to-top.\n",
    "\n",
    "They can show the outliers, if the data is symmetrical, how tightly the set is grouped, and if and how the data is skewed. They are a good indication of how the values in the data are spread out. Although box plots may seem primitive in comparison to a histogram or density plot, they have the advantage of taking up less space, which is useful when comparing distributions between many groups or datasets."
   ]
  },
  {
   "cell_type": "markdown",
   "metadata": {},
   "source": [
    "## References\n",
    "- [www.chartio.com](https://chartio.com/resources/tutorials/what-is-a-box-plot/)\n",
    "- [www.techtarget.com](https://whatis.techtarget.com/definition/box-plot)\n",
    "- [www.towardsdatascience.com](https://towardsdatascience.com/understanding-boxplots-5e2df7bcbd51)"
   ]
  },
  {
   "cell_type": "code",
   "execution_count": null,
   "metadata": {},
   "outputs": [],
   "source": []
  }
 ],
 "metadata": {
  "kernelspec": {
   "display_name": "Python 3",
   "language": "python",
   "name": "python3"
  },
  "language_info": {
   "codemirror_mode": {
    "name": "ipython",
    "version": 3
   },
   "file_extension": ".py",
   "mimetype": "text/x-python",
   "name": "python",
   "nbconvert_exporter": "python",
   "pygments_lexer": "ipython3",
   "version": "3.7.1"
  }
 },
 "nbformat": 4,
 "nbformat_minor": 2
}
